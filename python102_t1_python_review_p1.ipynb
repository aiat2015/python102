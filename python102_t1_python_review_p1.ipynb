{
  "nbformat": 4,
  "nbformat_minor": 0,
  "metadata": {
    "colab": {
      "name": "python102_t1-python_review-p1.ipynb",
      "version": "0.3.2",
      "provenance": [],
      "collapsed_sections": [],
      "include_colab_link": true
    },
    "kernelspec": {
      "name": "python3",
      "display_name": "Python 3"
    }
  },
  "cells": [
    {
      "cell_type": "markdown",
      "metadata": {
        "id": "view-in-github",
        "colab_type": "text"
      },
      "source": [
        "<a href=\"https://colab.research.google.com/github/tchayintr/python102/blob/master/python102_t1_python_review_p1.ipynb\" target=\"_parent\"><img src=\"https://colab.research.google.com/assets/colab-badge.svg\" alt=\"Open In Colab\"/></a>"
      ]
    },
    {
      "metadata": {
        "id": "E27s793oYvcc",
        "colab_type": "text"
      },
      "cell_type": "markdown",
      "source": [
        "# **Python102: Data Science and Machine Learning Bootcamp**\n",
        "**Tutorial 1 (T1)  - Python Basics (Part 1)**\n"
      ]
    },
    {
      "metadata": {
        "id": "SrolpQ9kZ1aA",
        "colab_type": "text"
      },
      "cell_type": "markdown",
      "source": [
        "---\n",
        "# **T1.1: คำสั่ง print **\n",
        "- คำสั่งสำหรับพิมพ์ค่าต่างๆ หรือข้อความออกทางหน้าจอ คือ print\n",
        "- เช่น print(\"Hello, world.\") จะเป็นการพิมพ์คำว่า Hello, world. ออกมาทางหน้าจอ"
      ]
    },
    {
      "metadata": {
        "id": "Ws4PJGp6YzpX",
        "colab_type": "code",
        "colab": {}
      },
      "cell_type": "code",
      "source": [
        "print(\"Hello, world.\")"
      ],
      "execution_count": 0,
      "outputs": []
    },
    {
      "metadata": {
        "id": "V1qbFpypZ9PO",
        "colab_type": "code",
        "colab": {}
      },
      "cell_type": "code",
      "source": [
        "print(\"Hello, %s.\" % (\"Python101\"))"
      ],
      "execution_count": 0,
      "outputs": []
    },
    {
      "metadata": {
        "id": "YIBTpKdFanMF",
        "colab_type": "code",
        "colab": {}
      },
      "cell_type": "code",
      "source": [
        "print(\"Hello, {}.\".format(\"AIAT\"))"
      ],
      "execution_count": 0,
      "outputs": []
    },
    {
      "metadata": {
        "id": "FIw1k4gpdkZC",
        "colab_type": "code",
        "colab": {}
      },
      "cell_type": "code",
      "source": [
        "print(\"Hello,\", \"Thailand.\")"
      ],
      "execution_count": 0,
      "outputs": []
    },
    {
      "metadata": {
        "id": "HOJNMg5yZ5Ls",
        "colab_type": "text"
      },
      "cell_type": "markdown",
      "source": [
        "---\n",
        "# **T1.2:  การคำนวณทางคณิคศาสตร์เบื้องต้น **\n",
        "\n",
        "Numbers and Math (operators)\n",
        "\n",
        "+ \\+ (plus) บวก\n",
        "\n",
        "+ \\- (minus) ลบ\n",
        "\n",
        "+ / (slash) หาร\n",
        "\n",
        "+ \\* (asterisk) คูณ\n",
        "\n",
        "+ % (percent) หารเอาเศษ (ม็อด)\n",
        "\n",
        "+ ** (exponential) ยกกำลัง\n",
        "\n",
        "+ < (less-than) น้อยกว่า\n",
        "\n",
        "+ \\> (greater-than) มากกว่า\n",
        "\n",
        "+ <= (less-than-equal) น้อยกว่าหรือเท่ากับ\n",
        "\n",
        "+ \\>= (greater-than-equal) มากกว่าหรือเท่ากับ\n"
      ]
    },
    {
      "metadata": {
        "id": "RcywtzWXcNEF",
        "colab_type": "code",
        "colab": {}
      },
      "cell_type": "code",
      "source": [
        ""
      ],
      "execution_count": 0,
      "outputs": []
    },
    {
      "metadata": {
        "id": "G_Y0bgLRaxSv",
        "colab_type": "text"
      },
      "cell_type": "markdown",
      "source": [
        "$ 2^5 $"
      ]
    },
    {
      "metadata": {
        "id": "x5uj3XcNbbBJ",
        "colab_type": "code",
        "colab": {}
      },
      "cell_type": "code",
      "source": [
        "2**(5)"
      ],
      "execution_count": 0,
      "outputs": []
    },
    {
      "metadata": {
        "id": "TvZbnAV1bIUT",
        "colab_type": "text"
      },
      "cell_type": "markdown",
      "source": [
        "$ 2 + 5 \\times 10 $"
      ]
    },
    {
      "metadata": {
        "id": "FHu0OIx0bS22",
        "colab_type": "code",
        "colab": {}
      },
      "cell_type": "code",
      "source": [
        "2 + 5 * 10"
      ],
      "execution_count": 0,
      "outputs": []
    },
    {
      "metadata": {
        "id": "NY-HWCLabXRU",
        "colab_type": "code",
        "colab": {}
      },
      "cell_type": "code",
      "source": [
        "2 + (5 * 10)"
      ],
      "execution_count": 0,
      "outputs": []
    },
    {
      "metadata": {
        "id": "AzWL1gYpbpC7",
        "colab_type": "code",
        "colab": {}
      },
      "cell_type": "code",
      "source": [
        "(2 + 5) * 10"
      ],
      "execution_count": 0,
      "outputs": []
    },
    {
      "metadata": {
        "id": "uOgraFiVb0Wc",
        "colab_type": "text"
      },
      "cell_type": "markdown",
      "source": [
        "$ \\frac{1 + 2 + 3}{4 + 5 + 6} $"
      ]
    },
    {
      "metadata": {
        "id": "jUk6_X_JcCXl",
        "colab_type": "code",
        "colab": {}
      },
      "cell_type": "code",
      "source": [
        "(1 + 2 + 3)/(4 + 5 + 6)"
      ],
      "execution_count": 0,
      "outputs": []
    },
    {
      "metadata": {
        "id": "VXRxXvIUcVJs",
        "colab_type": "text"
      },
      "cell_type": "markdown",
      "source": [
        "$ \\sqrt[2] {2}$"
      ]
    },
    {
      "metadata": {
        "id": "JkkcYJmlccjc",
        "colab_type": "code",
        "colab": {}
      },
      "cell_type": "code",
      "source": [
        "2 ** (1/2)"
      ],
      "execution_count": 0,
      "outputs": []
    },
    {
      "metadata": {
        "id": "TM_ORV3eHYS8",
        "colab_type": "text"
      },
      "cell_type": "markdown",
      "source": [
        "ในบางครั้งเราไม่จำเป็นต้องคิดวิธีคำนวณเพื่อหาคำตอบเอง เพราะ python มีไลบารี่เกี่ยวกีบการคำนวณไว้ให้แล้ว\n",
        "เช่น math library"
      ]
    },
    {
      "metadata": {
        "id": "_ZLzoTIjbpWS",
        "colab_type": "code",
        "colab": {}
      },
      "cell_type": "code",
      "source": [
        "import math\n",
        "print(math.sqrt(2))"
      ],
      "execution_count": 0,
      "outputs": []
    },
    {
      "metadata": {
        "id": "_vgs-5HudEx1",
        "colab_type": "text"
      },
      "cell_type": "markdown",
      "source": [
        "---\n",
        "# **T1.3: การรับ Input จากคีย์บอร์ด**"
      ]
    },
    {
      "metadata": {
        "id": "Wx8CVJepdHDw",
        "colab_type": "code",
        "colab": {}
      },
      "cell_type": "code",
      "source": [
        "user_input = input(\"Could you give me some input: \")\n",
        "print(\"The input is: \", user_input)"
      ],
      "execution_count": 0,
      "outputs": []
    },
    {
      "metadata": {
        "id": "e9dyqON_eicy",
        "colab_type": "text"
      },
      "cell_type": "markdown",
      "source": [
        "---\n",
        "# **T1.4: การใช้หมายเหตุ (Comment)**\n",
        "\n",
        "เราใช้เครื่องหมาย # เพื่อละไม่ให้ Python รันคำสั่งที่บรรทัดนั้นๆ"
      ]
    },
    {
      "metadata": {
        "id": "40M2hHJDeosW",
        "colab_type": "code",
        "colab": {}
      },
      "cell_type": "code",
      "source": [
        "# a comment line\n",
        "print(\"You cannot see me. hehe\")\n",
        "# print(\"You can see me.\")"
      ],
      "execution_count": 0,
      "outputs": []
    },
    {
      "metadata": {
        "id": "qKnayiQlCaTm",
        "colab_type": "text"
      },
      "cell_type": "markdown",
      "source": [
        "---\n",
        "# **T1.5: ตัวแปร (Variable)**\n",
        "\n",
        "ตัวแปรเป็นเหมือนหน่วยความจำที่มีไว้สำหรับเก็บค่าชั่วคราว และสามารถนำไปใช้คำนวณต่อได้ด้วย"
      ]
    },
    {
      "metadata": {
        "id": "1fMqbDQPxn98",
        "colab_type": "code",
        "colab": {}
      },
      "cell_type": "code",
      "source": [
        "a = 2**4\n",
        "b = 5 + 5\n",
        "\n",
        "print(a + b)"
      ],
      "execution_count": 0,
      "outputs": []
    },
    {
      "metadata": {
        "id": "hdEQuSatxsqU",
        "colab_type": "code",
        "colab": {}
      },
      "cell_type": "code",
      "source": [
        "print(a)\n",
        "print(b)"
      ],
      "execution_count": 0,
      "outputs": []
    },
    {
      "metadata": {
        "id": "0eTVMpYUxyKX",
        "colab_type": "text"
      },
      "cell_type": "markdown",
      "source": [
        "ในทางปฏิบัติแล้ว เรามักตั้งชื่อตัวแปรให้มีความหมาย เพื่อที่จะเข้าใจจุดประสงค์ของการคำนวณนั้นๆ "
      ]
    },
    {
      "metadata": {
        "id": "Y3hoJ2Zox-21",
        "colab_type": "code",
        "colab": {}
      },
      "cell_type": "code",
      "source": [
        "width = 5\n",
        "height = 10\n",
        "area = width * height\n",
        "print(area)"
      ],
      "execution_count": 0,
      "outputs": []
    },
    {
      "metadata": {
        "id": "tBPfWEvFbh5s",
        "colab_type": "text"
      },
      "cell_type": "markdown",
      "source": [
        "---\n",
        "# **T1.6: สตริง (String)**\n",
        "\n",
        "สตริงคือกลุ่มของตัวอักษร เช่น **\"Hello\"** จุดสังเกตุคือ ต้องมี Single Quote หรือ Double Quote ครอบอยู่"
      ]
    },
    {
      "metadata": {
        "id": "7g8JBgqIcYoi",
        "colab_type": "code",
        "colab": {}
      },
      "cell_type": "code",
      "source": [
        "a = \"This is string.\"\n",
        "print(a)"
      ],
      "execution_count": 0,
      "outputs": []
    },
    {
      "metadata": {
        "id": "dPcsCLshcZaw",
        "colab_type": "code",
        "colab": {}
      },
      "cell_type": "code",
      "source": [
        "b = \"101\"\n",
        "c = 101\n",
        "print(b, type(b))\n",
        "print(c, type(c))"
      ],
      "execution_count": 0,
      "outputs": []
    },
    {
      "metadata": {
        "id": "MFresb-YchzV",
        "colab_type": "text"
      },
      "cell_type": "markdown",
      "source": [
        "เราสามารถเข้าถึงแต่ละตัวอักษรในสตริงได้ โดยการใช้ Index เช่น \n",
        "\n",
        "\n",
        "a = \"String\"\n",
        "\n",
        "a[0] = S\n",
        "\n",
        "a[1] = t\n",
        "\n",
        "...\n",
        "\n",
        "a[5] = g\n",
        "\n",
        "a[6] >> error!!\n",
        "\n",
        "**จำไว้ว่า Index ของตัวแรกจะเริ่มที่ 0 เสมอ ไม่ใช่ 1**"
      ]
    },
    {
      "metadata": {
        "id": "pQTG6d4hcmBc",
        "colab_type": "code",
        "colab": {}
      },
      "cell_type": "code",
      "source": [
        "a = \"AbCdEf\"\n",
        "print(a)\n",
        "print(a[0])\n",
        "print(a[1])\n",
        "print(a[5])"
      ],
      "execution_count": 0,
      "outputs": []
    },
    {
      "metadata": {
        "id": "Asu38O7hcqzp",
        "colab_type": "text"
      },
      "cell_type": "markdown",
      "source": [
        "**เราสามารถนำ String หรือ ตัวอักษรมาต่อกันได้**"
      ]
    },
    {
      "metadata": {
        "id": "uihvhJvdcvqi",
        "colab_type": "code",
        "colab": {}
      },
      "cell_type": "code",
      "source": [
        "a = \"Welcome to\"\n",
        "b = \"AIAT Academy\"\n",
        "\n",
        "c = a + \" \" + b\n",
        "print(c)"
      ],
      "execution_count": 0,
      "outputs": []
    },
    {
      "metadata": {
        "id": "wTqxr50B4y7X",
        "colab_type": "text"
      },
      "cell_type": "markdown",
      "source": [
        "---\n",
        "# T1.7: การประกาศฟังก์ชั่น\n",
        "**def** ชื่อฟังก์ชั่น(ตัวแปรที่1,ตัวแปรที่2, ...): \n",
        "\n",
        "\n",
        "อาจจะไม่รับตัวแปรก็ได้"
      ]
    },
    {
      "metadata": {
        "id": "Fl6NVQc940kd",
        "colab_type": "code",
        "colab": {}
      },
      "cell_type": "code",
      "source": [
        "# ตัวอย่างการประกาศฟังก์ชั่น\n",
        "# เริ่มฟังก์ชั่น\n",
        "def ชื่อฟังก์ชั่น(ตัวแปรที่1,ตัวแปรที่2, ...): # อาจจะไม่ตัวแปรก็ได้\n",
        "  print(\"Hello\")  # โปรแกรมให้ทำอะไรก็ได้\n",
        "# จบฟังก์ชั่น"
      ],
      "execution_count": 0,
      "outputs": []
    },
    {
      "metadata": {
        "id": "nKIS3sLq45a0",
        "colab_type": "text"
      },
      "cell_type": "markdown",
      "source": [
        "---\n",
        "# T1.8:**ฟังก์ชั่นสำหรับพิมพ์!!**\n",
        "ตัวอย่างฟังก์ชั่นเพื่อพิมพ์บางอย่างออกทางหน้าจอ"
      ]
    },
    {
      "metadata": {
        "id": "84t2BDop49y6",
        "colab_type": "code",
        "colab": {}
      },
      "cell_type": "code",
      "source": [
        "def print_hello():\n",
        "  print(\"Hello, function.\")"
      ],
      "execution_count": 0,
      "outputs": []
    },
    {
      "metadata": {
        "id": "EkVbraZh4-Ar",
        "colab_type": "code",
        "colab": {}
      },
      "cell_type": "code",
      "source": [
        "def print_hello():\n",
        "  print(\"Hello, function.\")\n",
        "  \n",
        "print_hello()"
      ],
      "execution_count": 0,
      "outputs": []
    },
    {
      "metadata": {
        "id": "IKQaQ_lU4-GM",
        "colab_type": "code",
        "colab": {}
      },
      "cell_type": "code",
      "source": [
        "def say_hello(name):\n",
        "  '''\n",
        "  say hello to user\n",
        "  '''\n",
        "  # say hello to user\n",
        "  print(\"Hello, \", name)\n",
        "\n",
        "  \n",
        "if __name__ == '__main__':  \n",
        "  myname = \"AIAT\"  \n",
        "  say_hello(myname)"
      ],
      "execution_count": 0,
      "outputs": []
    },
    {
      "metadata": {
        "id": "6_UR1DBs5DxM",
        "colab_type": "text"
      },
      "cell_type": "markdown",
      "source": [
        "---\n",
        "# **T1.9: ฟังก์ชั่นสำหรับการคำนวนง่ายๆ**\n",
        "BMI (Body Mass Index) calculation\n",
        "\n",
        "**BMI = kg/m^2**\n",
        "\n",
        "\n",
        "![BMI Chart](http://www.bangpakokhospital.com/image_upload/ARTICLE-28)"
      ]
    },
    {
      "metadata": {
        "id": "rmo543Aj5G5t",
        "colab_type": "code",
        "colab": {}
      },
      "cell_type": "code",
      "source": [
        "def BMI_calculator(weight, height):\n",
        "  '''\n",
        "  Calculate the BMI value\n",
        "  weight: weight in kg.\n",
        "  height: height in m.\n",
        "  '''\n",
        "  bmi = weight / (height**2)\n",
        "  # return the calculated value\n",
        "  return bmi\n",
        "\n",
        "\n",
        "#----------------------------------------------\n",
        "\n",
        "weight = input(\"Enter your weight (kg): \")\n",
        "height = input(\"Enter your height (m): \")\n",
        "\n",
        "# convert string to float\n",
        "weight = float(weight)\n",
        "height = float(height)\n",
        "\n",
        "bmi = BMI_calculator(weight, height)\n",
        "\n",
        "print(\"Your BMI is\", bmi)"
      ],
      "execution_count": 0,
      "outputs": []
    },
    {
      "metadata": {
        "id": "xVL6jOmn5Kjh",
        "colab_type": "text"
      },
      "cell_type": "markdown",
      "source": [
        "# **T1.10: การนำเข้าไลบรารี่จากภายนอก**\n",
        "Import non build-in library with its function then try to call them\n",
        "\n",
        "**Word tokenizer from NLTK!! (ตัดคำ)**\n",
        "\n",
        "\n"
      ]
    },
    {
      "metadata": {
        "id": "4qtTDs8q5Jjg",
        "colab_type": "code",
        "colab": {}
      },
      "cell_type": "code",
      "source": [
        "import nltk\n",
        "\n",
        "s = \"This is a book.\"\n",
        "\n",
        "nltk.download('punkt')\n",
        "\n",
        "words = nltk.word_tokenize(s)\n",
        "print(words)"
      ],
      "execution_count": 0,
      "outputs": []
    },
    {
      "metadata": {
        "id": "FE9XGsd77IX-",
        "colab_type": "text"
      },
      "cell_type": "markdown",
      "source": [
        "**นับความถี่ของแต่ละคำในประโยค**"
      ]
    },
    {
      "metadata": {
        "id": "fp8Mwfg35Nvh",
        "colab_type": "code",
        "colab": {}
      },
      "cell_type": "code",
      "source": [
        "freq = nltk.FreqDist(words)\n",
        "for key,val in freq.items():\n",
        "    print (str(key) + ':' + str(val))"
      ],
      "execution_count": 0,
      "outputs": []
    }
  ]
}