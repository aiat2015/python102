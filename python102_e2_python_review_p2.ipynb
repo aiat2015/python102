{
  "nbformat": 4,
  "nbformat_minor": 0,
  "metadata": {
    "colab": {
      "name": "python102_e2-python_review-p2.ipynb",
      "version": "0.3.2",
      "provenance": [],
      "collapsed_sections": [],
      "include_colab_link": true
    },
    "kernelspec": {
      "name": "python3",
      "display_name": "Python 3"
    }
  },
  "cells": [
    {
      "cell_type": "markdown",
      "metadata": {
        "id": "view-in-github",
        "colab_type": "text"
      },
      "source": [
        "<a href=\"https://colab.research.google.com/github/tchayintr/python102/blob/master/python102_e2_python_review_p2.ipynb\" target=\"_parent\"><img src=\"https://colab.research.google.com/assets/colab-badge.svg\" alt=\"Open In Colab\"/></a>"
      ]
    },
    {
      "metadata": {
        "id": "KUOB1P5JdEXt",
        "colab_type": "text"
      },
      "cell_type": "markdown",
      "source": [
        "# **Python102: Data Science and Machine Learning Bootcamp**\n",
        "**Exercise 2 (E2)  - Nostalgic Python Basics (Part 2)**\n",
        "\n",
        "\n"
      ]
    },
    {
      "metadata": {
        "id": "E27s793oYvcc",
        "colab_type": "text"
      },
      "cell_type": "markdown",
      "source": [
        "**E2.1: Grade calculation using conditions (คำนวณเกรดโดยใช้เงื่อนไข)**\n",
        "\n",
        "Grading criteria: \n",
        "+ A: 90-100\n",
        "+ B: 80-89\n",
        "+ C: 70-79\n",
        "+ D: 60-69\n",
        "+ F: 0-59\n",
        "\n",
        "Note:\n",
        "+ รับคะแนนจากคีย์บอร์ด\n",
        "+ คิดเกรดด้วยฟังก์ชั่น grade_calculator()\n",
        "+ คืนค่า grade แล้วทำการแสดงผลของเกรดบนหน้าจอ"
      ]
    },
    {
      "metadata": {
        "id": "zJWs_p-bbt7g",
        "colab_type": "code",
        "colab": {}
      },
      "cell_type": "code",
      "source": [
        "# Begin your code here\n",
        "def grade_calculator(score):\n",
        " \n",
        "\n",
        "if __name__ == \"__main__\":\n",
        "  \n",
        "# End your code here"
      ],
      "execution_count": 0,
      "outputs": []
    },
    {
      "metadata": {
        "id": "n0k4BjOTuyqS",
        "colab_type": "text"
      },
      "cell_type": "markdown",
      "source": [
        "**E2.2: Leap year? (ปีอธิกสุรทิน)** \\\\\n",
        "เงื่อนไขในการหาปีอธิกสุรทิน\n",
        "1.   ถ้าปีนั้นหารด้วย 4 ลงตัว ไปที่ขั้นตอนที่ 2 มิฉะนั้น ไปที่ขั้นตอนที่ 5\n",
        "2.  ถ้าปีนั้นหารด้วย 100 ลงตัวไปที่ขั้นตอนที่ 3 มิฉะนั้น ไปที่ขั้นตอนที่ 4\n",
        "3.  ถ้าปีนั้นหารด้วย 400 ลงตัวไปที่ขั้นตอนที่ 4 มิฉะนั้น ไปที่ขั้นตอนที่ 5\n",
        "4. ปีนั้นป็นปีอธิกสุรทิน (มี 366 วัน)\n",
        "5. ปีนั้นไม่ใช่ปีอธิกสุรทิน (มี 365 วัน)\n",
        "\n",
        "**Note:**\n",
        "ให้พิมพ์คำตอบออกมาว่า: ปี yyyy เป็น/ไม่เป็นปีอธิกสุรธิน"
      ]
    },
    {
      "metadata": {
        "id": "KPxz2Z_iu_OU",
        "colab_type": "code",
        "colab": {}
      },
      "cell_type": "code",
      "source": [
        "# Begin your code here\n",
        "def leap_year(year):\n",
        "  if year%4 == 0:\n",
        "      if year%100 == 0:\n",
        "          if year %400 ==0:\n",
        "              print(\"It's leap year\")\n",
        "          else:\n",
        "              print(\"It's not leap year\")\n",
        "      else:\n",
        "          print(\"It's leap year\")\n",
        "  else:\n",
        "      print(\"It's not leap year\")\n",
        "        \n",
        "if __name__ == \"__main__\":\n",
        "  year = int(input(\"Please input year: \"))\n",
        "  leap_year(year)\n",
        "  # End your code here"
      ],
      "execution_count": 0,
      "outputs": []
    },
    {
      "metadata": {
        "id": "VHGJ02IvKeGU",
        "colab_type": "text"
      },
      "cell_type": "markdown",
      "source": [
        "**E2.3: Finding root of the quadratic equation (หาค่าราก)** \\\\\n",
        "จงหาจำนวนและรากของสมการยกกำลังสอง (quadratic equation: $y = ax^2+bx+c$) โดยมีการรับค่า a, b, c ผ่านคีย์บอร์ด \\\\\n",
        "**Hint:** \n",
        "* $ root = \\frac{-b\\pm\\sqrt{b^2 -4ac}}{2a}$\n",
        "* if $b^2 -4ac > 0$, two solutions.\n",
        "* if $b^2 -4ac = 0$, one solution.\n",
        "* if $b^2 -4ac < 0$, no solution.\n",
        "\n",
        "\n",
        "\n"
      ]
    },
    {
      "metadata": {
        "id": "QcmlIBEVeNN3",
        "colab_type": "code",
        "colab": {}
      },
      "cell_type": "code",
      "source": [
        "def root(a, b, c):\n",
        "  ans = []\n",
        "  r = (b**2)-(4*a*c)\n",
        "  if r > 0:\n",
        "      num_root = 2\n",
        "      ans = [((-1*b)+(r**0.5))/(2*a), ((-1*b-r**0.5))/(2*a)]\n",
        "  elif r == 0:\n",
        "      num_root = 1\n",
        "      ans = (-1*b)/(2*a)\n",
        "  else:\n",
        "      num_root = 0\n",
        "  return (num_root, ans)\n",
        "\n",
        "if __name__ == \"__main__\":\n",
        "    text = input(\"Please enter the number like a, b, c : \")\n",
        "    a, b, c = text.split(',')\n",
        "    a = int(a)\n",
        "    b= int(b)\n",
        "    c= int(c)\n",
        "    num_root, ans = root(a, b, c)\n",
        "print(\"There're\", num_root, \"answers: \", ans)"
      ],
      "execution_count": 0,
      "outputs": []
    },
    {
      "metadata": {
        "id": "qWP_hry03LOH",
        "colab_type": "text"
      },
      "cell_type": "markdown",
      "source": [
        "**E2.4: Printing \"Python101xScipy\" up to n time **\n",
        "\n",
        "ทำการแสดงผลคำว่า \"Python101xScipy\" บนหน้าจอ จำนวน n ครั้ง\n",
        "\n",
        "Note:\n",
        "+ รับค่า n จากคีย์บอร์ด"
      ]
    },
    {
      "metadata": {
        "id": "IVgb0EBk3JUX",
        "colab_type": "code",
        "colab": {}
      },
      "cell_type": "code",
      "source": [
        "if __name__ == \"__main__\":\n",
        "  n = int(input(\"Please enter n :\"))\n",
        "  for i in range (0, n):\n",
        "    print(\"Python101xScipy\")"
      ],
      "execution_count": 0,
      "outputs": []
    },
    {
      "metadata": {
        "id": "T2W5lvXX6t1l",
        "colab_type": "text"
      },
      "cell_type": "markdown",
      "source": [
        "***E2.5: It's prime or not*** \\\\\n",
        "เขียนโปรแกรมเพื่อรับค่าจากคีย์บอร์ด และตรวจสอบว่าเป็นจำนวนเฉพาะหรือไม่"
      ]
    },
    {
      "metadata": {
        "id": "5i3Ng4vmUpMG",
        "colab_type": "code",
        "colab": {}
      },
      "cell_type": "code",
      "source": [
        "#E3.5: It's prime or not\n",
        "def prime(number):\n",
        "  if number > 1:\n",
        "          for i in range (1, number):\n",
        "              if number %i == 0 and i != 1:\n",
        "                  print(number, ' is not prime')\n",
        "                  break\n",
        "              else:\n",
        "                if number == i + 1:\n",
        "                  print(number, 'is prime')\n",
        "  else:\n",
        "    print(number, 'is not prime')\n",
        "\n",
        "if __name__ == \"__main__\":\n",
        "    number = int(input(\"Enter the n: \"))\n",
        "    prime(number)"
      ],
      "execution_count": 0,
      "outputs": []
    },
    {
      "metadata": {
        "id": "4XnMnxXybhgR",
        "colab_type": "text"
      },
      "cell_type": "markdown",
      "source": [
        "**E2.6: Guessing game: Let's guess a number!!***\n",
        "\n",
        "เดาตัวเลขที่อยู่ระหว่าง 0 - 10 ที่ถูกสุ่มขึ้นมาจาก ***rand_number = random.randint(0,10) ***\n",
        "\n",
        "Note:\n",
        "+ รับตัวเลขจากคีย์บอร์ด\n",
        "+ ถ้าตัวเลขที่รับจากคีย์บอร์ดมีค่า**น้อยกว่า**ค่าที่สุ่มขึ้นมา ให้โปรแกรมตอบว่า ตัวเลขมีค่าน้อยเกินไป และให้รับตัวเลขใหม่อีกครั้ง\n",
        "+ ถ้าตัวเลขที่รับจากคีย์บอร์ดมีค่า**มากกว่า**ค่าที่สุ่มขึ้นมา ให้โปรแกรมตอบว่า ตัวเลขมีค่ามากเกินไป และให้รับตัวเลขใหม่อีกครั้ง\n",
        "+ ทำซ้ำไปเรื่อยๆจนกว่าจะเดาถูก (break)"
      ]
    },
    {
      "metadata": {
        "id": "Ws4PJGp6YzpX",
        "colab_type": "code",
        "colab": {}
      },
      "cell_type": "code",
      "source": [
        "import random\n",
        "# Begin your code here\n",
        "if __name__ == \"__main__\":\n",
        "  rand_number = random.randint(0,10)\n",
        "\n",
        "  while(True):\n",
        "    user_guess = int(input(\"Enter a guess number:\"))\n",
        "    if user_guess == rand_number:\n",
        "      print(\"Your guess is CORRECT!!\")\n",
        "      break\n",
        "    elif user_guess > rand_number:\n",
        "      print(\"Your guess is too high, please try again.\")\n",
        "    elif user_guess < rand_number:\n",
        "      print(\"Your guess is too low, please try again.\")\n",
        "    else:\n",
        "      print(\"Something went wrong.\")\n",
        "      break\n",
        "    #End your code here"
      ],
      "execution_count": 0,
      "outputs": []
    },
    {
      "metadata": {
        "id": "Rdk_6Ywtipfr",
        "colab_type": "text"
      },
      "cell_type": "markdown",
      "source": [
        "**E2.7: Writing a Loop!** \\\\\n",
        "จงเขียนโปรแกรมเพื่อรับจำนวน $ n $ และพิมพ์แบบลดหลั่นที่มีขนาดเท่ากับ $ n $ เช่น\n",
        "\n",
        "```\n",
        "Enter the size of base (n): 5\n",
        "55555\n",
        "4444\n",
        "333\n",
        "22\n",
        "1\n",
        "```"
      ]
    },
    {
      "metadata": {
        "id": "Gzot6eMwuDMG",
        "colab_type": "code",
        "colab": {}
      },
      "cell_type": "code",
      "source": [
        "# Begin your code here\n",
        "if __name__ == \"__main__\":\n",
        "    number = int(input(\"Enter the size of the left-angle pyramid (n): \"))\n",
        "    for i in range(number, 0, -1):\n",
        "        print(str(i)*i)\n",
        "  # End your code here"
      ],
      "execution_count": 0,
      "outputs": []
    },
    {
      "metadata": {
        "id": "lgsLNCyMj3IH",
        "colab_type": "text"
      },
      "cell_type": "markdown",
      "source": [
        "**E2.8: Writing Factorial** \\\\\n",
        "ทำการเขียน Function เพื่อพิมพ์การกระจาย Factorial โดยรับค่าที่มากที่สุดผ่านทางคีย์บอร์ดช่น \\\\\n",
        "ถ้า $n$ = 5 โปรแกรมจะต้องแสดงผลดังนี้\n",
        "\n",
        "> 1 ! = 1\n",
        "\n",
        "> 2 ! = 1 x 2 = 2\n",
        "\n",
        "> 3 ! = 1 x 2 x 3 = 6\n",
        "\n",
        "> 4 ! = 1 x 2 x 3 x 4 = 24\n",
        "\n",
        "> 5 ! = 1x 2 x 3 x 4 x 5 = 120\n"
      ]
    },
    {
      "metadata": {
        "id": "ILIMnUJ0l_PJ",
        "colab_type": "code",
        "colab": {}
      },
      "cell_type": "code",
      "source": [
        "#E3.8: Writing Factorial\n",
        "n = int(input(\"Please enter n for factorial n: \"))\n",
        "res = 1\n",
        "for i in range (1, n+1): #4\n",
        "    print(i, \"! = \", end = \" \")\n",
        "    for j in range(1, i+1): 1-4\n",
        "        print(j , end = \" \")\n",
        "        if i > 1 and j < i:\n",
        "            print(\" x \", end = \" \")\n",
        "    res*=i\n",
        "    print(\" = \", res)"
      ],
      "execution_count": 0,
      "outputs": []
    },
    {
      "metadata": {
        "id": "ERe5Qk8TCVIO",
        "colab_type": "text"
      },
      "cell_type": "markdown",
      "source": [
        "**E2.9: Tax calculation!** \\\\\n",
        "ทำการคำนวณภาษีที่ต้องชำระตามช่วงของเงินที่ได้รับ ทั้งนี้จะมีการรวมค่าลดหย่อนค่าใช้จ่าย และจะต้องนำค่าที่ได้มาหักกับภาษี ณ ที่จ่าย ทั้งนี้ต้องแสดงผลลัพธ์ว่ามีต้องจ่ายภาษีเพิ่มกี่บาท หรือ ไม่คืนกี่บาท \\\\\n",
        "Note: \n",
        "> Input ประกอบด้วย\n",
        "> * รายได้ตลอดทั้งปี\n",
        "> * ค่าลดหย่อนภาษี\n",
        "> * ภาษีที่โดนหัก ณ ที่จ่าย\n",
        "\n",
        ">Output\n",
        "> * ภาษีของคุณคือ ...บาท\n",
        "> * คุณต้องจ่ายภาษีเพิ่ม/ได้รับภาษีคืน ...บาท\n",
        "\n",
        "reference: http://www.rd.go.th/publish/59670.0.html"
      ]
    },
    {
      "metadata": {
        "id": "PQvMWBu7CUkn",
        "colab_type": "code",
        "colab": {}
      },
      "cell_type": "code",
      "source": [
        "def cal_tax(money):\n",
        "    mintax = [150000, 300000, 500000, 750000, 1000000, 2000000, 5000000]\n",
        "    percent = [0, 0.05, 0.1, 0.15, 0.2, 0.25, 0.3, 0.35]\n",
        "    for i in range(0, len(mintax)):\n",
        "        if mintax[i] > money:\n",
        "            index = i\n",
        "            break\n",
        "        else:\n",
        "            index =i+1\n",
        "    tax_list = [(mintax[i]-mintax[i-1])*percent[i] for i in range(1, index)]\n",
        "    tax_list.append((money-mintax[index-1])*percent[index])\n",
        "    return (sum(tax_list))\n",
        "\n",
        "income = int(input(\"Please enter your income in this year: \"))\n",
        "discount = int(input(\"Please enter your discount: \"))\n",
        "left = income - discount\n",
        "tax = cal_tax(left)\n",
        "print(\"You have to pay \", tax, 'baht')\n",
        "prepaid = int(input(\"Please enter your prepaid tax: \"))\n",
        "diff = tax-prepaid\n",
        "if diff > 0:\n",
        "    print(\"You have to pay more: \", diff, \"baht\")\n",
        "elif diff == 0:\n",
        "    print(\"Your prepaid is equal to tax. You have no tax left.\")\n",
        "else:\n",
        "    print(\"You have the compesation: \", diff*-1, \"baht\")"
      ],
      "execution_count": 0,
      "outputs": []
    },
    {
      "metadata": {
        "id": "H3aktJiZeOv9",
        "colab_type": "text"
      },
      "cell_type": "markdown",
      "source": [
        "**E2.10: Check common element**\n",
        "\n",
        "ทำการตรวจสอบสมาชิกของสองลิสต์ว่ามีสมาชิกร่วมกันหรือไม่\n",
        "\n",
        "Note:\n",
        "\n",
        "*   ถ้าหากมีสมาชิกร่วมกัน ผลลัพธ์จะออกมาเป็น True\n",
        "*   ถ้าหากไม่มีสมาชิกร่วมกัน ผลลัพธ์จะออกมาเป็น False"
      ]
    },
    {
      "metadata": {
        "id": "LYHhiekGeTY-",
        "colab_type": "code",
        "colab": {}
      },
      "cell_type": "code",
      "source": [
        "def check_common(lstA, lstB):\n",
        "    for i in range (0, len(lstA)):\n",
        "        for j in range(0, len(lstB)):\n",
        "            if lstA[i] == lstB[j]:\n",
        "                return(True)\n",
        "    else:\n",
        "        return(False)\n",
        "   \n",
        "if __name__ == '__main__': \n",
        "    lstA = [1, 2, 3, 4, 5, 6]\n",
        "    lstB = [9, 8, 7, 'B', 'A']\n",
        "    result = check_common(lstA, lstB)\n",
        "    print(result)"
      ],
      "execution_count": 0,
      "outputs": []
    },
    {
      "metadata": {
        "id": "Zh94WXzieWyH",
        "colab_type": "text"
      },
      "cell_type": "markdown",
      "source": [
        "**E2.11: Check it is palindrome or not!**\n",
        "\n",
        "ทำการรับข้อความและตรวจสอบว่าข้อคความนั้น palindrome หรือไม่ (โดยไม่มี space ระหว่างคำ)\n",
        "ผลลัพธ์ออกมาเป็น True หรือ False\n",
        "\n",
        "Note: Example of palindrome\n",
        "\n",
        "1.   hannah \n",
        "2.   123321"
      ]
    },
    {
      "metadata": {
        "id": "Cwl88wmNeZpm",
        "colab_type": "code",
        "colab": {}
      },
      "cell_type": "code",
      "source": [
        "user_input = input(\"Enter a string: \")\n",
        "user_input = user_input.lower()\n",
        "reverse = user_input[::-1]\n",
        "if user_input == reverse:\n",
        "    print(True)\n",
        "else:\n",
        "    print(False)"
      ],
      "execution_count": 0,
      "outputs": []
    },
    {
      "metadata": {
        "id": "GkU37xBHedvK",
        "colab_type": "text"
      },
      "cell_type": "markdown",
      "source": [
        "**E2.12: Generate list**\n",
        "\n",
        "ทำการสร้าง list [a1, b1, a2, b2, a3, b3, a4, b4] จาก list [a, b] โดยค่า n = 4\n",
        "\n",
        "โดยโปรแกรมต้องรับค่า n จากผู้ใช้งาน"
      ]
    },
    {
      "metadata": {
        "id": "3tOIwgLVeiVa",
        "colab_type": "code",
        "colab": {}
      },
      "cell_type": "code",
      "source": [
        "A = ['A', 'B', 'C', 'D']\n",
        "n = int(input(\"Please enter n: \"))\n",
        "res = []\n",
        "for j in range(1, n+1):\n",
        "    for i in range(len(A)):\n",
        "        res.append(A[i]+str(j))\n",
        "print(res)"
      ],
      "execution_count": 0,
      "outputs": []
    },
    {
      "metadata": {
        "id": "WStLfEApemnm",
        "colab_type": "text"
      },
      "cell_type": "markdown",
      "source": [
        "**E2.13: Similarity between two lists**\n",
        "\n",
        "ทำการหาค่า list(A) - list(B) และ list(B) - list(A) เช่น\n",
        "\n",
        "A = [\"red\", \"orange\", \"green\", \"blue\", \"white\"] และ B = [\"black\", \"yellow\", \"green\", \"blue\"]\n",
        "\n",
        "ผลลัพธ์\n",
        "\n",
        "\n",
        "*   list(A) - list(B) = [\"red\", \"orange\", \"white\"]\n",
        "*   list(B) - list(A) = [\"green\", \"black\"]\n",
        "\n",
        "\n"
      ]
    },
    {
      "metadata": {
        "id": "tOEFVjc8enNh",
        "colab_type": "code",
        "colab": {}
      },
      "cell_type": "code",
      "source": [
        "def minus(A,B):\n",
        "    res = []\n",
        "    for x in A:\n",
        "        if x not in B:\n",
        "            res.append(x)\n",
        "    return res\n",
        "\n",
        "if __name__ == '__main__':\n",
        "    A = [\"red\", \"orange\", \"green\", \"blue\", \"white\"]\n",
        "    B = [\"black\", \"yellow\", \"green\", \"blue\"]\n",
        "    AmB = minus(A, B)\n",
        "    BmA =minus(B, A)\n",
        "    print(\"list(A) - lis(B) is \", AmB)\n",
        "    print(\"list(B) - lis(A) is \", BmA)\n",
        "        "
      ],
      "execution_count": 0,
      "outputs": []
    },
    {
      "metadata": {
        "id": "f6YstJ0eenkI",
        "colab_type": "text"
      },
      "cell_type": "markdown",
      "source": [
        "**E2.14: Average of scores calculation using conditions, loops, and list**\n",
        "\n",
        "หาค่าเฉลี่ยของตัวเลขในลิสต์\n",
        "\n",
        "Note:\n",
        "+ รับตัวเลขจากคีย์บอร์ด \n",
        "+ ทำการเพิ่มตัวเลขลงลิสต์ \n",
        "* รับตัวเลขไปเรื่อยๆจนกว่าจะพิมพ์ \"Q\" หรือ \"q\" เพื่อหยุด\n",
        "+ คิดค่าเฉลี่ยของลิสต์ตัวเลขด้วยฟังก์ชั่น avg_estimator()\n",
        "+ คืนค่าเฉลี่ย แล้วทำการแสดงผลบนหน้าจอ\n",
        "+ โปรดระวังขนาดของ list เท่ากับ 0\n",
        "\n"
      ]
    },
    {
      "metadata": {
        "id": "5bohUmSIen_S",
        "colab_type": "code",
        "colab": {}
      },
      "cell_type": "code",
      "source": [
        "def avg_estimator(numbers):\n",
        "    if len(numbers)==0:\n",
        "        avg_num = 0\n",
        "    else:\n",
        "        total = sum(numbers)\n",
        "        avg_num = total/len(numbers)\n",
        "    return avg_num\n",
        "\n",
        "if __name__ == '__main__':\n",
        "    numbers = []\n",
        "    while(True):\n",
        "        user_input = input(\"Enter a number: \")\n",
        "        user_input = user_input.lower()\n",
        "        if user_input == \"q\":\n",
        "            break    \n",
        "        else:\n",
        "            numbers.append(int(user_input))\n",
        "    avg = avg_estimator(numbers)\n",
        "    print(\"AVG:\", avg)"
      ],
      "execution_count": 0,
      "outputs": []
    }
  ]
}