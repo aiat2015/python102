{
  "nbformat": 4,
  "nbformat_minor": 0,
  "metadata": {
    "colab": {
      "name": "python102_e1-python_review-p1.ipynb",
      "version": "0.3.2",
      "provenance": [],
      "collapsed_sections": [],
      "include_colab_link": true
    },
    "kernelspec": {
      "name": "python3",
      "display_name": "Python 3"
    }
  },
  "cells": [
    {
      "cell_type": "markdown",
      "metadata": {
        "id": "view-in-github",
        "colab_type": "text"
      },
      "source": [
        "<a href=\"https://colab.research.google.com/github/tchayintr/python102/blob/master/python102_e1_python_review_p1.ipynb\" target=\"_parent\"><img src=\"https://colab.research.google.com/assets/colab-badge.svg\" alt=\"Open In Colab\"/></a>"
      ]
    },
    {
      "metadata": {
        "id": "wq5jqj1sepVA",
        "colab_type": "text"
      },
      "cell_type": "markdown",
      "source": [
        "# **Python102: Data Science and Machine Learning Bootcamp**\n",
        "**Exercise 1 (E1)  - Nostalgic Python Basics (Part 1)**\n",
        "\n"
      ]
    },
    {
      "metadata": {
        "id": "QoUBZbLvYeI8",
        "colab_type": "text"
      },
      "cell_type": "markdown",
      "source": [
        "**E1.1: ลองใช้คำสั่ง print**\n",
        "\n",
        "ลองพิมพ์ชื่อตัวเองออกมาทางหน้าจอ"
      ]
    },
    {
      "metadata": {
        "id": "uQkEy5MyYsmI",
        "colab_type": "code",
        "colab": {}
      },
      "cell_type": "code",
      "source": [
        "print(\"\")"
      ],
      "execution_count": 0,
      "outputs": []
    },
    {
      "metadata": {
        "id": "4B9E9k4yYYSQ",
        "colab_type": "text"
      },
      "cell_type": "markdown",
      "source": [
        "***E1.2: Prompting yourself (ถามเกี่ยวกับตัวเอง)***\n",
        "\n",
        "Asking yourself as listed below then print out:\n",
        "\n",
        "+ First name \n",
        "+ Last name\n",
        "+ Hobbies\n",
        "+ Why Python?\n"
      ]
    },
    {
      "metadata": {
        "id": "KqUMBZ5ceB_S",
        "colab_type": "code",
        "colab": {}
      },
      "cell_type": "code",
      "source": [
        "firstname = input(\"Firstname: \")\n",
        "# Begin your code here\n",
        "\n",
        "# End your code here\n",
        "\n",
        "print(\"Firstname:\", firstname)\n",
        "print(\"Lastname:\", lastname)\n",
        "print(\"Hobby:\", hobby)\n",
        "print(\"Why python?:\", whypython)"
      ],
      "execution_count": 0,
      "outputs": []
    },
    {
      "metadata": {
        "id": "Q4u7SyGEZWHF",
        "colab_type": "text"
      },
      "cell_type": "markdown",
      "source": [
        "**E1.3: ทดลองใช้ comment (หมายเหตุ)**\n",
        "\n",
        "ทดลองรัน แล้วแก้ไขให้เนื้อเพลงสามารถที่จะพิมพ์ออกมาที่หน้าจอให้ครบทั้งสามท่อน"
      ]
    },
    {
      "metadata": {
        "id": "7wwcEpuDZeRn",
        "colab_type": "code",
        "colab": {}
      },
      "cell_type": "code",
      "source": [
        "print(\"อยู่ที่เรียนรู้\")\n",
        "print(\"อยู่ที่ยอมรับมัน\")\n",
        "# print(\"ตามความคิดสติเราให้ทัน\")"
      ],
      "execution_count": 0,
      "outputs": []
    },
    {
      "metadata": {
        "id": "-LNNo5olcxtj",
        "colab_type": "text"
      },
      "cell_type": "markdown",
      "source": [
        "**E1.4: ทดลองคำนวณทางวิทยาศาสตร์**\n",
        "\n",
        "เขียนโค้ด Python ให้สามารถคำนวณออกมาได้เหมือนกับที่โจทย์ต้องการ"
      ]
    },
    {
      "metadata": {
        "id": "Z73n-gUPdTM5",
        "colab_type": "text"
      },
      "cell_type": "markdown",
      "source": [
        "1.4.1. \n",
        "\n",
        "$ (5 \\times 6) + 4 = 34$"
      ]
    },
    {
      "metadata": {
        "id": "cI3nBJrMdN6e",
        "colab_type": "code",
        "colab": {}
      },
      "cell_type": "code",
      "source": [
        ""
      ],
      "execution_count": 0,
      "outputs": []
    },
    {
      "metadata": {
        "id": "fogp5FACdmqF",
        "colab_type": "text"
      },
      "cell_type": "markdown",
      "source": [
        "1.4.2.\n",
        "\n",
        "$8 \\times 4 + (8 \\times \\frac{1}{2}) = 36$"
      ]
    },
    {
      "metadata": {
        "id": "HYvWYf3IdzJ1",
        "colab_type": "code",
        "colab": {}
      },
      "cell_type": "code",
      "source": [
        ""
      ],
      "execution_count": 0,
      "outputs": []
    },
    {
      "metadata": {
        "id": "OnKyPZZyePvL",
        "colab_type": "text"
      },
      "cell_type": "markdown",
      "source": [
        "1.4.3.\n",
        "\n",
        "$\\sqrt[2]{144} + 15 = 27$"
      ]
    },
    {
      "metadata": {
        "id": "a3mGa5t9ejLD",
        "colab_type": "code",
        "colab": {}
      },
      "cell_type": "code",
      "source": [
        ""
      ],
      "execution_count": 0,
      "outputs": []
    },
    {
      "metadata": {
        "id": "15_S9wvw19xE",
        "colab_type": "text"
      },
      "cell_type": "markdown",
      "source": [
        "***E1.5: Solving the problem with mathematics (แก้ปัญหาทาคณิตศาสตร์)***"
      ]
    },
    {
      "metadata": {
        "id": "Ew927OPlf7OU",
        "colab_type": "text"
      },
      "cell_type": "markdown",
      "source": [
        "E1.5.1: Solving the problem with Pythagorean Theorem\n",
        "\n",
        "\n",
        "***c^2 = a^2 + b^2***\n",
        "\n",
        "\n",
        "Let a = 4 and b = 6\n",
        "\n",
        "Find c\n",
        "\n",
        "\n",
        "\n",
        "กำหนดให้ a มีค่าเท่ากับ 4 \n",
        "\n",
        "กำหนดให้ b มีค่าเท่ากับ 6 \n",
        "\n",
        "จงหาค่า c\n",
        "\n",
        "![alt text](https://www.mathplanet.com/Oldsite/media/43198/triangle10.png)\n"
      ]
    },
    {
      "metadata": {
        "id": "H6Kbp9tYlFGc",
        "colab_type": "code",
        "colab": {}
      },
      "cell_type": "code",
      "source": [
        "a = 4\n",
        "b = 6\n",
        "\n",
        "# begin your code here\n",
        "\n",
        "# คำนวนค่าของ c^2\n",
        "c_2 = 0\n",
        "\n",
        "# ถอดรากที่สองของ c\n",
        "c = 0\n",
        "\n",
        "# end your code here\n",
        "print(\"c:\", c)"
      ],
      "execution_count": 0,
      "outputs": []
    },
    {
      "metadata": {
        "id": "7mPnteqI2l1D",
        "colab_type": "text"
      },
      "cell_type": "markdown",
      "source": [
        "E1.5.2: หาค่า Mean ของ a, b, c \n",
        "\n",
        "เมื่อ a = 5, b = 10, c = -2 \n",
        "\n",
        "$ \\mathrm{Mean}(a, b, c) = \\frac{a + b + c}{|a + b + c|} =  \\frac{a + b + c}{3}$\n",
        "\n"
      ]
    },
    {
      "metadata": {
        "id": "wT1dHM5L3Xev",
        "colab_type": "code",
        "colab": {}
      },
      "cell_type": "code",
      "source": [
        "a = 5\n",
        "# begin your code here\n",
        "\n",
        "\n",
        "\n",
        "# end your code here"
      ],
      "execution_count": 0,
      "outputs": []
    },
    {
      "metadata": {
        "id": "rDDPsOk_a6EY",
        "colab_type": "text"
      },
      "cell_type": "markdown",
      "source": [
        "***E1.6: Solving the problem with you own function (แก้ปัญหาโดยการใช้ฟังก์ชั่นของตนเอง)***\n",
        "\n",
        "Convert a temparature in fahrenheit to celsius\n",
        "\n",
        "แปลงอุณหภูมิในหน่วยฟาเรนไฮต์เป็นอุณหภูมิในหน่วยเซลเซียส\n",
        "\n",
        "***T(celsius) = (T(fahrenheit) - 32) / 1.8  ; where T is temparature***\n",
        "\n",
        "\n",
        "Note:\n",
        "  \n",
        "  + รับอุณหภูมิในรูปแบบองศาฟาร์เรนไฮต์จากคียบอร์ด\n",
        "  + แปลงหน่วยองศาฟาร์เรนไฮต์เป็นหน่วยองศาเซลเซียส โดยการดัดแปลงฟังก์ชั่น ftoc()\n",
        "  + ทำการคืนค่าจาก ftoc() และแสดงผลบนหน้าจอ"
      ]
    },
    {
      "metadata": {
        "id": "A8Ju88iObMJg",
        "colab_type": "code",
        "colab": {}
      },
      "cell_type": "code",
      "source": [
        "# Begin your code here\n",
        "def ftoc(temp_f):\n",
        "  '''\n",
        "  Convert Fahrenheit to Celcius\n",
        "  temp_f: temparatur in Fahrenheit\n",
        "  '''\n",
        "  \n",
        "# End your code here\n",
        "\n",
        "\n",
        "if __name__ == '__main__': \n",
        "  # Begin your code here\n",
        "\n",
        "  # End your code here"
      ],
      "execution_count": 0,
      "outputs": []
    },
    {
      "metadata": {
        "id": "-TNtXO78bVrB",
        "colab_type": "text"
      },
      "cell_type": "markdown",
      "source": [
        "**E1.7: VAT++ (คำนวณภาษีมูลค่าเพิ่ม)**\n",
        "\n",
        "เพิ่ม VAT 8% เข้าไปในค่าตัวเลขที่รับจากคีย์บอร์ด\n",
        "\n",
        "Note:\n",
        "\n",
        "+ รับค่าจากคีย์บอร์ด\n",
        "+ เพิ่ม VAT 8% เข้าไปในค่าที่รับเข้ามาจากคีย์บอร์ด โดยการดัดแปลงฟังก์ชั่น vatpp()\n",
        "+ ทำการคืนค่าจาก vatpp() และแสดงผลลัพธ์ที่ถูกต้องบนหน้าจอ\n",
        "\n"
      ]
    },
    {
      "metadata": {
        "id": "Wxa1PKqBbrju",
        "colab_type": "code",
        "colab": {}
      },
      "cell_type": "code",
      "source": [
        "def vatpp(num):\n",
        "  # Begin your code here\n",
        "\n",
        "  # end your code here\n",
        "  \n",
        "\n",
        "if __name__ == '__main__':\n",
        "  # Begin your code here\n",
        "\n",
        "  #end your code here"
      ],
      "execution_count": 0,
      "outputs": []
    },
    {
      "metadata": {
        "id": "I10FJXipb6lp",
        "colab_type": "text"
      },
      "cell_type": "markdown",
      "source": [
        "***E1.8: It's your choice (ลองตั้งโจทย์ขึ้นมาสักหนึ่งข้อ)***\n",
        "\n",
        "Building your function to sovle your problem\n",
        "\n",
        "สร้างฟังก์ชั่นของตัวเอง และนำมาแสดงหน้าชั้นเรียน "
      ]
    },
    {
      "metadata": {
        "id": "c2PAyC9jb57z",
        "colab_type": "code",
        "colab": {}
      },
      "cell_type": "code",
      "source": [
        "# Begin your code here\n",
        "\n",
        "# end your code here"
      ],
      "execution_count": 0,
      "outputs": []
    }
  ]
}