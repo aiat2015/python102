{
  "nbformat": 4,
  "nbformat_minor": 0,
  "metadata": {
    "colab": {
      "name": "python102_outline.ipynb",
      "version": "0.3.2",
      "provenance": [],
      "collapsed_sections": [],
      "include_colab_link": true
    },
    "kernelspec": {
      "name": "python3",
      "display_name": "Python 3"
    }
  },
  "cells": [
    {
      "cell_type": "markdown",
      "metadata": {
        "id": "view-in-github",
        "colab_type": "text"
      },
      "source": [
        "<a href=\"https://colab.research.google.com/github/tchayintr/python102/blob/master/python102_outline.ipynb\" target=\"_parent\"><img src=\"https://colab.research.google.com/assets/colab-badge.svg\" alt=\"Open In Colab\"/></a>"
      ]
    },
    {
      "metadata": {
        "id": "2YOFuCKagIxd",
        "colab_type": "text"
      },
      "cell_type": "markdown",
      "source": [
        "# **Python102: Data Science and Machine Learning Bootcamp**\n"
      ]
    },
    {
      "metadata": {
        "id": "E27s793oYvcc",
        "colab_type": "text"
      },
      "cell_type": "markdown",
      "source": [
        "# **Outline**\n",
        "\n",
        "# ***Day 1***\n",
        "\n",
        "**Morning session**\n",
        "* Introduction\n",
        "* Python Environment Set-up\n",
        " * Windows and Mac\n",
        "* Jupyter Notebook Overview\n",
        "* Google Colaboratory (Colab)\n",
        "* **Break**\n",
        "* Python Basics (Part 1)\n",
        " * Interactive Interpreter and Comments\n",
        " * Variable and Types, Number and Boolean\n",
        "* Python Basics (Part 2) \n",
        " * Strings, Control I/O, and Functions \n",
        "* Python Basics Exercise 1\n",
        "* **Lunch**\n",
        " \n",
        "**Afternoon session**\n",
        "\n",
        "* Python Basics (Part 3)\n",
        " * Control Flow (Condition) and Loops\n",
        " * List and Dictionary\n",
        "* Python Basics Exercise 2\n",
        "* **Break**\n",
        "* Python for Data Analysis\n",
        " * NumPy\n",
        " * Pandas\n",
        " * Data Analysis Exercises\n",
        "\n",
        "\n",
        "\n",
        "# ***Day 2***\n",
        "\n",
        "**Morning session**\n",
        "* Python for Data Visualization\n",
        " * Matplotlib and Seaborn\n",
        " * Geographical Plotting\n",
        "* Data Visualization Project\n",
        "* **Break**\n",
        "* Introduction to Machine Learning \n",
        "* Machine Learning Basics (Part 1)\n",
        " * Linear Regression\n",
        " * Logistic Regression\n",
        "* Machine Learning Exercise 1\n",
        "* **Lunch**\n",
        "\n",
        " \n",
        "**Afternoon session**\n",
        "\n",
        "* Machine Learning Basics (Part 2)\n",
        " * Support Vector Machine\n",
        " * K-mean Clustering\n",
        "* Machine Learning Exercise 2\n",
        "* **Break**\n",
        "* Machine Learning Basics (Part 3)\n",
        " * Natural Language Processing\n",
        " * Neural Nets and Deep Learning\n",
        "* Machine Learning Exercise 2\n",
        "\n",
        "---\n",
        "\n",
        "Materials: http://bit.ly/2xPafhA\n",
        "\n"
      ]
    }
  ]
}